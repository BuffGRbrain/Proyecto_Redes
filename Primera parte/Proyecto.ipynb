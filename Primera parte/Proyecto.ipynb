{
 "cells": [
  {
   "cell_type": "markdown",
   "id": "e226dd0a-b4fa-4fc9-83ff-2364a50e92f3",
   "metadata": {},
   "source": [
    "## Cálculo del Estimated RTT utilizando Exponential Weighted Moving Averarge (EWMA)\n",
    "### Juan Luis Ávila, Guillermo Ribero, Juan José Caballero\n",
    "Este \"notebook\" está diseñado para que se grafiquen los valores de 'Sample RTT' y 'Estimated RTT' de un determinado \"host\". Los datos de 'Sample RTT' pueden ser calculados de manera aleatoria o utilizando un archivo csv. Para utilizar la herramienta que hemos creado es necesario que modifique el código en ningún momento, sino que por el contrario, escoja la opción de cómo quiere escoger los valores de 'Sample RTT' con los botones que están al final y con la barra deslizante pueda elegir el valor de la constante $\\alpha$. Para que estos widgets aparezcan simplemente ejecute la celda de abajo."
   ]
  },
  {
   "cell_type": "code",
   "execution_count": 92,
   "id": "128ae5d6-2e44-4bf0-98a4-054048487203",
   "metadata": {},
   "outputs": [
    {
     "data": {
      "application/vnd.jupyter.widget-view+json": {
       "model_id": "2e191a69aacf4d6cba6a1e31cba91efe",
       "version_major": 2,
       "version_minor": 0
      },
      "text/plain": [
       "Box(children=(Label(value='¿Qué datos quiere utilizar para hacer el cálculo del EWMA?'), RadioButtons(options=…"
      ]
     },
     "metadata": {},
     "output_type": "display_data"
    },
    {
     "data": {
      "application/vnd.jupyter.widget-view+json": {
       "model_id": "1ffa92a8959d43c28417ec7bb927471f",
       "version_major": 2,
       "version_minor": 0
      },
      "text/plain": [
       "FloatSlider(value=0.125, description='Alpha:', max=1.0, step=0.005)"
      ]
     },
     "metadata": {},
     "output_type": "display_data"
    },
    {
     "data": {
      "application/vnd.jupyter.widget-view+json": {
       "model_id": "0b2feaff4bdd4cbd8740d45af225f0eb",
       "version_major": 2,
       "version_minor": 0
      },
      "text/plain": [
       "Output()"
      ]
     },
     "metadata": {},
     "output_type": "display_data"
    }
   ],
   "source": [
    "# Importación de paquetes\n",
    "import random as rd\n",
    "import matplotlib.pyplot as plt\n",
    "import pandas as pd\n",
    "from tkinter import Tk     \n",
    "from tkinter.filedialog import askopenfilename\n",
    "import ipywidgets as widgets\n",
    "from IPython.display import display\n",
    "from ipywidgets import interact\n",
    "\n",
    "#Función que calcula el 'Estimated RTT'\n",
    "def ewma_calculation(csv=False,alpha=0.125):\n",
    "    if not csv:\n",
    "        SampleRTT = []\n",
    "        time = []\n",
    "        for i in range(200):\n",
    "            SampleRTT.append(rd.randrange(150,351))\n",
    "            time.append(i)\n",
    "    else:\n",
    "        my_csv = pd.read_csv(csv)\n",
    "        SampleRTT = my_csv['RTT'].tolist()\n",
    "        time = my_csv['time'].tolist()\n",
    "\n",
    "    ewma = [SampleRTT[0]]\n",
    "    for i in range(1,len(SampleRTT)):\n",
    "        ewma.append((1-alpha)*ewma[i-1]+alpha*SampleRTT[i])\n",
    "    plt.plot(time,SampleRTT, label = 'SampleRTT')\n",
    "    plt.plot(time,ewma, label = 'EstimatedRTT')\n",
    "    plt.xlabel('Time(s)')\n",
    "    plt.ylabel('RTT (ms)')\n",
    "    plt.legend()\n",
    "    plt.show()\n",
    "    return ewma\n",
    "\n",
    "# Interfaz gráfica - Creación de Widgets amigables\n",
    "boton = widgets.RadioButtons(\n",
    "        options=['Importar datos desde un archivo csv.', 'Datos aleatorios.'],\n",
    "        #layout={'width': 'max-content'}, # If the items' names are long\n",
    "        disabled=False,\n",
    "        value = None\n",
    ")\n",
    "\n",
    "option = widgets.Box([\n",
    "    widgets.Label(value='¿Qué datos quiere utilizar para hacer el cálculo del EWMA?'),\n",
    "    boton\n",
    "])\n",
    "output = widgets.Output()\n",
    "alpha_widget = widgets.FloatSlider(\n",
    "    name = 'alpha',\n",
    "    value=0.125,\n",
    "    min=0,\n",
    "    max=1,\n",
    "    step=0.005,\n",
    "    description='Alpha:',\n",
    ")\n",
    "csv =''\n",
    "def on_value_change(change):\n",
    "    with output:\n",
    "        output.clear_output()\n",
    "        if boton.value == 'Importar datos desde un archivo csv.':\n",
    "            global csv\n",
    "            Tk().withdraw()\n",
    "            csv = askopenfilename(filetypes = (('Archivos CSV', '*.csv'),))\n",
    "            ewma_calculation(csv)\n",
    "        elif boton.value == 'Datos aleatorios.':\n",
    "            ewma_calculation()\n",
    "def change_alpha(alpha):\n",
    "    with output:\n",
    "        output.clear_output()\n",
    "        if boton.value == 'Importar datos desde un archivo csv.':\n",
    "            ewma_calculation(csv,alpha['new'])\n",
    "        elif boton.value == 'Datos aleatorios.':\n",
    "            ewma_calculation(alpha=alpha['new'])\n",
    "    \n",
    "display(option)\n",
    "display(alpha_widget,output)\n",
    "boton.observe(on_value_change,names='value')\n",
    "alpha_widget.observe(change_alpha,names='value')"
   ]
  }
 ],
 "metadata": {
  "kernelspec": {
   "display_name": "Python 3 (ipykernel)",
   "language": "python",
   "name": "python3"
  },
  "language_info": {
   "codemirror_mode": {
    "name": "ipython",
    "version": 3
   },
   "file_extension": ".py",
   "mimetype": "text/x-python",
   "name": "python",
   "nbconvert_exporter": "python",
   "pygments_lexer": "ipython3",
   "version": "3.9.5"
  }
 },
 "nbformat": 4,
 "nbformat_minor": 5
}
