{
 "cells": [
  {
   "cell_type": "code",
   "execution_count": 87,
   "id": "1342811e-aedd-42e8-9588-1c26f8eda12a",
   "metadata": {},
   "outputs": [],
   "source": [
    "import random as rd\n",
    "import matplotlib.pyplot as plt\n",
    "import pandas as pd\n",
    "from tkinter import Tk     \n",
    "from tkinter.filedialog import askopenfilename\n",
    "import ipywidgets as widgets\n",
    "from IPython.display import display\n",
    "from ipywidgets import interact"
   ]
  },
  {
   "cell_type": "code",
   "execution_count": 40,
   "id": "128ae5d6-2e44-4bf0-98a4-054048487203",
   "metadata": {},
   "outputs": [],
   "source": [
    "def ewma_calculation(csv=False,alpha=0.125):\n",
    "    if not csv:\n",
    "        SampleRTT = []\n",
    "        time = []\n",
    "        for i in range(200):\n",
    "            SampleRTT.append(rd.randrange(150,351))\n",
    "            time.append(i)\n",
    "    else:\n",
    "        my_csv = pd.read_csv(csv)\n",
    "        SampleRTT = my_csv['RTT'].tolist()\n",
    "        time = my_csv['time'].tolist()\n",
    "\n",
    "    ewma = [SampleRTT[0]]\n",
    "    for i in range(1,len(SampleRTT)):\n",
    "        ewma.append((1-alpha)*ewma[i-1]+alpha*SampleRTT[i])\n",
    "    plt.plot(time,SampleRTT, label = 'SampleRTT')\n",
    "    plt.plot(time,ewma, label = 'EstimatedRTT')\n",
    "    plt.xlabel('Time(s)')\n",
    "    plt.ylabel('RTT (ms)')\n",
    "    plt.legend()\n",
    "    plt.show()\n",
    "    return ewma"
   ]
  },
  {
   "cell_type": "code",
   "execution_count": 88,
   "id": "a993cd1f-9900-4431-85f0-1db0846828f6",
   "metadata": {},
   "outputs": [
    {
     "data": {
      "application/vnd.jupyter.widget-view+json": {
       "model_id": "241bd9a1ddd54f6f8431740762a612d1",
       "version_major": 2,
       "version_minor": 0
      },
      "text/plain": [
       "Box(children=(Label(value='¿Qué datos quiere utilizar para hacer el cálculo del EWMA?'), RadioButtons(options=…"
      ]
     },
     "metadata": {},
     "output_type": "display_data"
    },
    {
     "data": {
      "application/vnd.jupyter.widget-view+json": {
       "model_id": "dfc5cb7e9136435597b1a56e6dd5460a",
       "version_major": 2,
       "version_minor": 0
      },
      "text/plain": [
       "FloatSlider(value=0.25, description='Alpha:', max=1.0, step=0.05)"
      ]
     },
     "metadata": {},
     "output_type": "display_data"
    },
    {
     "data": {
      "application/vnd.jupyter.widget-view+json": {
       "model_id": "9035ee778e574290b11a01e4c9a28b33",
       "version_major": 2,
       "version_minor": 0
      },
      "text/plain": [
       "Output()"
      ]
     },
     "metadata": {},
     "output_type": "display_data"
    }
   ],
   "source": [
    "boton = widgets.RadioButtons(\n",
    "        options=['Importar datos desde un archivo csv.', 'Datos aleatorios.'],\n",
    "        #layout={'width': 'max-content'}, # If the items' names are long\n",
    "        disabled=False,\n",
    "        value = None\n",
    ")\n",
    "\n",
    "option = widgets.Box([\n",
    "    widgets.Label(value='¿Qué datos quiere utilizar para hacer el cálculo del EWMA?'),\n",
    "    boton\n",
    "])\n",
    "output = widgets.Output()\n",
    "alpha_widget = widgets.FloatSlider(\n",
    "    name = 'alpha',\n",
    "    value=0.25,\n",
    "    min=0,\n",
    "    max=1,\n",
    "    step=0.05,\n",
    "    description='Alpha:',\n",
    ")\n",
    "csv =''\n",
    "def on_value_change(change):\n",
    "    with output:\n",
    "        output.clear_output()\n",
    "        if boton.value == 'Importar datos desde un archivo csv.':\n",
    "            global csv\n",
    "            Tk().withdraw()\n",
    "            csv = askopenfilename(filetypes = (('Archivos CSV', '*.csv'),))\n",
    "            ewma_calculation(csv)\n",
    "        elif boton.value == 'Datos aleatorios.':\n",
    "            ewma_calculation()\n",
    "def change_alpha(alpha):\n",
    "    with output:\n",
    "        output.clear_output()\n",
    "        if boton.value == 'Importar datos desde un archivo csv.':\n",
    "            ewma_calculation(csv,alpha['new'])\n",
    "        elif boton.value == 'Datos aleatorios.':\n",
    "            ewma_calculation(alpha=alpha['new'])\n",
    "    \n",
    "display(option)\n",
    "display(alpha_widget,output)\n",
    "boton.observe(on_value_change,names='value')\n",
    "alpha_widget.observe(change_alpha,names='value')"
   ]
  }
 ],
 "metadata": {
  "kernelspec": {
   "display_name": "Python 3 (ipykernel)",
   "language": "python",
   "name": "python3"
  },
  "language_info": {
   "codemirror_mode": {
    "name": "ipython",
    "version": 3
   },
   "file_extension": ".py",
   "mimetype": "text/x-python",
   "name": "python",
   "nbconvert_exporter": "python",
   "pygments_lexer": "ipython3",
   "version": "3.9.5"
  }
 },
 "nbformat": 4,
 "nbformat_minor": 5
}
